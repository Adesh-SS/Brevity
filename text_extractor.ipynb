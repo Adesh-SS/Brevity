{
 "cells": [
  {
   "cell_type": "markdown",
   "id": "486e5750",
   "metadata": {},
   "source": [
    "For PDF's"
   ]
  },
  {
   "cell_type": "code",
   "execution_count": 8,
   "id": "98424ce4",
   "metadata": {},
   "outputs": [],
   "source": [
    "import fitz\n",
    "\n",
    "def extract_text_from_pdf(pdf_path):\n",
    "    output_text = \"\"\n",
    "    try:\n",
    "        doc = fitz.open(pdf_path)\n",
    "        for page in doc:\n",
    "            text = page.get_text()\n",
    "            output_text += text + \"\\n\"\n",
    "        doc.close()\n",
    "        return output_text\n",
    "    except Exception as e:\n",
    "        print(f\"An error occurred: {e}\")"
   ]
  },
  {
   "cell_type": "markdown",
   "id": "81834b64",
   "metadata": {},
   "source": [
    "For Word"
   ]
  },
  {
   "cell_type": "code",
   "execution_count": 7,
   "id": "e3cc226e",
   "metadata": {},
   "outputs": [],
   "source": [
    "from docx import Document\n",
    "\n",
    "def extract_text_from_docx(docx_path):\n",
    "    output_text = \"\"\n",
    "\n",
    "    try:\n",
    "        doc = Document(docx_path)\n",
    "        output_text = \"\\n\".join([para.text for para in doc.paragraphs])\n",
    "        \n",
    "        return output_text\n",
    "    except Exception as e:\n",
    "        print(f\"An error occurred: {e}\")"
   ]
  },
  {
   "cell_type": "markdown",
   "id": "1ecdf514",
   "metadata": {},
   "source": [
    "Classified function call"
   ]
  },
  {
   "cell_type": "code",
   "execution_count": 11,
   "id": "4ab33e7e",
   "metadata": {},
   "outputs": [
    {
     "name": "stdout",
     "output_type": "stream",
     "text": [
      "Scientists at a leading research institute have developed a new technique to recycle plastic waste into high-quality raw materials, offering hope for a more sustainable future. The method uses a combination of enzymes and heat to break down various types of plastic into their base chemicals, which can then be reused to make new products.\n",
      "Traditionally, recycling has been limited by the type and cleanliness of the plastic, with only certain types being reusable. The new method overcomes this limitation, allowing mixed plastic waste, including food containers, bottles, and wrappers, to be processed together. The team claims their approach can convert up to 90% of plastic waste into reusable material.\n",
      "The breakthrough was announced after successful pilot tests in three countries. According to the lead scientist, Dr. Elena Rodriguez, “Our goal is to close the loop in plastic manufacturing. This technology can be integrated with existing recycling plants without major modifications.”\n",
      "Environmental groups have praised the innovation, calling it a “game-changer” in the fight against pollution. However, some critics caution that reducing plastic production is still more important than recycling alone. Governments are now considering policies to subsidize the adoption of this technology in large-scale recycling facilities.\n",
      "The research team is currently working with industry partners to scale up the process. If successful, this could significantly reduce the amount of plastic ending up in oceans and landfills, marking a major step toward solving the global plastic crisis.\n"
     ]
    }
   ],
   "source": [
    "import tkinter as tk\n",
    "from tkinter import filedialog\n",
    "\n",
    "def main():\n",
    "    root = tk.Tk()\n",
    "    root.withdraw()  # Hide the main window\n",
    "\n",
    "    file_path = filedialog.askopenfilename(\n",
    "        title=\"Select a file\",\n",
    "        filetypes=[(\"PDF files\", \"*.pdf\"), (\"Word Files\", \"*.docx\")]\n",
    "    )\n",
    "\n",
    "    if file_path:\n",
    "        if file_path.lower().endswith('.pdf'):\n",
    "            output_text = extract_text_from_pdf(file_path)\n",
    "            if output_text:\n",
    "                print(output_text)\n",
    "            else:\n",
    "                print(\"No text extracted from the PDF.\")\n",
    "        elif file_path.lower().endswith('.docx'):\n",
    "            output_text = extract_text_from_docx(file_path)\n",
    "            if output_text:\n",
    "                print(output_text)\n",
    "            else:\n",
    "                print(\"No text extracted from the Word document.\")\n",
    "        else:\n",
    "            print(\"Selected file is neither a pdf nor a word.\")\n",
    "    else:\n",
    "        print(\"No file selected.\")\n",
    "\n",
    "if __name__ == \"__main__\":\n",
    "    main()"
   ]
  }
 ],
 "metadata": {
  "kernelspec": {
   "display_name": "brevity",
   "language": "python",
   "name": "python3"
  },
  "language_info": {
   "codemirror_mode": {
    "name": "ipython",
    "version": 3
   },
   "file_extension": ".py",
   "mimetype": "text/x-python",
   "name": "python",
   "nbconvert_exporter": "python",
   "pygments_lexer": "ipython3",
   "version": "3.11.0"
  }
 },
 "nbformat": 4,
 "nbformat_minor": 5
}
